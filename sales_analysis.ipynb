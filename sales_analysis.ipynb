{
 "cells": [
  {
   "cell_type": "markdown",
   "id": "c28aad13-a5be-4d90-9a48-3378e9110780",
   "metadata": {},
   "source": [
    "# 12 Months Sale Project"
   ]
  },
  {
   "cell_type": "code",
   "execution_count": 228,
   "id": "7e1acf75-a79d-424b-8468-c0defb557aa5",
   "metadata": {
    "tags": []
   },
   "outputs": [],
   "source": [
    "# importing modules\n",
    "\n",
    "import os\n",
    "import pandas as pd\n",
    "import numpy as np\n",
    "import matplotlib.pyplot as plt\n",
    "import seaborn as sns\n",
    "from itertools import combinations\n",
    "from collections import Counter"
   ]
  },
  {
   "cell_type": "markdown",
   "id": "0ffaf0b0-4af2-4c64-9e76-ad411d3ab5d4",
   "metadata": {},
   "source": [
    "#### All the months are in separate CSV files \n",
    "\n",
    "#### first I will make them one year csv file and read them all thogether"
   ]
  },
  {
   "cell_type": "code",
   "execution_count": 2,
   "id": "f3f14300-17e5-4a84-ba72-265d9aa1b055",
   "metadata": {
    "tags": []
   },
   "outputs": [],
   "source": [
    "# Sales of whole year\n",
    "\n",
    "all_months = [month for month in os.listdir('./Sales_Data/')]\n",
    "\n",
    "All_Months = pd.DataFrame()\n",
    "\n",
    "for file in all_months:\n",
    "    dff = pd.read_csv(\"./Sales_Data/\" + file)\n",
    "    All_Months = pd.concat([All_Months,dff])\n",
    "    \n",
    "All_Months.to_csv(\"Sales_of_whole_year\", index=False)  "
   ]
  },
  {
   "cell_type": "code",
   "execution_count": 11,
   "id": "f29179d0-d3e4-4106-b3fb-2c2376050ffc",
   "metadata": {
    "tags": []
   },
   "outputs": [],
   "source": [
    "# reading the Whole year\n",
    "\n",
    "df = pd.read_csv(\"Sales_of_whole_year\")"
   ]
  },
  {
   "cell_type": "code",
   "execution_count": 12,
   "id": "87528a34-5ffc-4eaf-b4e2-be58b6093bdc",
   "metadata": {
    "tags": []
   },
   "outputs": [
    {
     "name": "stdout",
     "output_type": "stream",
     "text": [
      "<class 'pandas.core.frame.DataFrame'>\n",
      "RangeIndex: 186850 entries, 0 to 186849\n",
      "Data columns (total 6 columns):\n",
      " #   Column            Non-Null Count   Dtype \n",
      "---  ------            --------------   ----- \n",
      " 0   Order ID          186305 non-null  object\n",
      " 1   Product           186305 non-null  object\n",
      " 2   Quantity Ordered  186305 non-null  object\n",
      " 3   Price Each        186305 non-null  object\n",
      " 4   Order Date        186305 non-null  object\n",
      " 5   Purchase Address  186305 non-null  object\n",
      "dtypes: object(6)\n",
      "memory usage: 8.6+ MB\n"
     ]
    }
   ],
   "source": [
    "# getting information of our data\n",
    "\n",
    "df.info()"
   ]
  },
  {
   "cell_type": "markdown",
   "id": "a5357ca1-125e-4fa7-ba0e-14e899d02602",
   "metadata": {},
   "source": [
    "## Cleaning Data"
   ]
  },
  {
   "cell_type": "code",
   "execution_count": 15,
   "id": "e43d611b-6a8a-44db-909b-30b1d5618816",
   "metadata": {
    "tags": []
   },
   "outputs": [
    {
     "name": "stdout",
     "output_type": "stream",
     "text": [
      "<class 'pandas.core.frame.DataFrame'>\n",
      "Int64Index: 185950 entries, 0 to 186849\n",
      "Data columns (total 6 columns):\n",
      " #   Column            Non-Null Count   Dtype \n",
      "---  ------            --------------   ----- \n",
      " 0   Order ID          185950 non-null  object\n",
      " 1   Product           185950 non-null  object\n",
      " 2   Quantity Ordered  185950 non-null  object\n",
      " 3   Price Each        185950 non-null  object\n",
      " 4   Order Date        185950 non-null  object\n",
      " 5   Purchase Address  185950 non-null  object\n",
      "dtypes: object(6)\n",
      "memory usage: 9.9+ MB\n"
     ]
    }
   ],
   "source": [
    "# now i have mutiple column rows where the months end\n",
    "# I will make them None values and will delete them\n",
    "\n",
    "df = df.replace([\"Order ID\",\"Product\",\"Quantity Ordered\",\"Price Each\",\"Order Date\",\"Purchase Address\"],np.nan)\n",
    "df = df.dropna()\n",
    "df.info()"
   ]
  },
  {
   "cell_type": "code",
   "execution_count": 17,
   "id": "7ade96a0-0e01-46aa-9392-767d0b061bb0",
   "metadata": {
    "tags": []
   },
   "outputs": [],
   "source": [
    "# changing columns type\n",
    "\n",
    "df[\"Order ID\"] = df[\"Order ID\"].astype(int)\n",
    "df[\"Price Each\"] = df[\"Price Each\"].astype(float)\n",
    "df[\"Quantity Ordered\"] = df[\"Quantity Ordered\"].astype(int)"
   ]
  },
  {
   "cell_type": "code",
   "execution_count": 18,
   "id": "e176850c-0ab0-4e5b-8cd7-2cf4254040e3",
   "metadata": {
    "tags": []
   },
   "outputs": [
    {
     "data": {
      "text/plain": [
       "(185950, 6)"
      ]
     },
     "execution_count": 18,
     "metadata": {},
     "output_type": "execute_result"
    }
   ],
   "source": [
    "# looking for the Shape of our data (rows , columns)\n",
    "\n",
    "df.shape"
   ]
  },
  {
   "cell_type": "code",
   "execution_count": 22,
   "id": "5964cd92-ca20-4675-99f9-7bddd57f30fe",
   "metadata": {
    "tags": []
   },
   "outputs": [
    {
     "data": {
      "text/html": [
       "<div>\n",
       "<style scoped>\n",
       "    .dataframe tbody tr th:only-of-type {\n",
       "        vertical-align: middle;\n",
       "    }\n",
       "\n",
       "    .dataframe tbody tr th {\n",
       "        vertical-align: top;\n",
       "    }\n",
       "\n",
       "    .dataframe thead th {\n",
       "        text-align: right;\n",
       "    }\n",
       "</style>\n",
       "<table border=\"1\" class=\"dataframe\">\n",
       "  <thead>\n",
       "    <tr style=\"text-align: right;\">\n",
       "      <th></th>\n",
       "      <th>Order ID</th>\n",
       "      <th>Product</th>\n",
       "      <th>Quantity Ordered</th>\n",
       "      <th>Price Each</th>\n",
       "      <th>Order Date</th>\n",
       "      <th>Purchase Address</th>\n",
       "      <th>date</th>\n",
       "    </tr>\n",
       "  </thead>\n",
       "  <tbody>\n",
       "    <tr>\n",
       "      <th>0</th>\n",
       "      <td>222910</td>\n",
       "      <td>Apple Airpods Headphones</td>\n",
       "      <td>1</td>\n",
       "      <td>150.00</td>\n",
       "      <td>07/26/19 16:51</td>\n",
       "      <td>389 South St, Atlanta, GA 30301</td>\n",
       "      <td>2019-07-26</td>\n",
       "    </tr>\n",
       "    <tr>\n",
       "      <th>1</th>\n",
       "      <td>222911</td>\n",
       "      <td>Flatscreen TV</td>\n",
       "      <td>1</td>\n",
       "      <td>300.00</td>\n",
       "      <td>07/05/19 08:55</td>\n",
       "      <td>590 4th St, Seattle, WA 98101</td>\n",
       "      <td>2019-07-05</td>\n",
       "    </tr>\n",
       "    <tr>\n",
       "      <th>2</th>\n",
       "      <td>222912</td>\n",
       "      <td>AA Batteries (4-pack)</td>\n",
       "      <td>1</td>\n",
       "      <td>3.84</td>\n",
       "      <td>07/29/19 12:41</td>\n",
       "      <td>861 Hill St, Atlanta, GA 30301</td>\n",
       "      <td>2019-07-29</td>\n",
       "    </tr>\n",
       "    <tr>\n",
       "      <th>3</th>\n",
       "      <td>222913</td>\n",
       "      <td>AA Batteries (4-pack)</td>\n",
       "      <td>1</td>\n",
       "      <td>3.84</td>\n",
       "      <td>07/28/19 10:15</td>\n",
       "      <td>190 Ridge St, Atlanta, GA 30301</td>\n",
       "      <td>2019-07-28</td>\n",
       "    </tr>\n",
       "    <tr>\n",
       "      <th>4</th>\n",
       "      <td>222914</td>\n",
       "      <td>AAA Batteries (4-pack)</td>\n",
       "      <td>5</td>\n",
       "      <td>2.99</td>\n",
       "      <td>07/31/19 02:13</td>\n",
       "      <td>824 Forest St, Seattle, WA 98101</td>\n",
       "      <td>2019-07-31</td>\n",
       "    </tr>\n",
       "  </tbody>\n",
       "</table>\n",
       "</div>"
      ],
      "text/plain": [
       "   Order ID                   Product  Quantity Ordered  Price Each  \\\n",
       "0    222910  Apple Airpods Headphones                 1      150.00   \n",
       "1    222911             Flatscreen TV                 1      300.00   \n",
       "2    222912     AA Batteries (4-pack)                 1        3.84   \n",
       "3    222913     AA Batteries (4-pack)                 1        3.84   \n",
       "4    222914    AAA Batteries (4-pack)                 5        2.99   \n",
       "\n",
       "       Order Date                  Purchase Address       date  \n",
       "0  07/26/19 16:51   389 South St, Atlanta, GA 30301 2019-07-26  \n",
       "1  07/05/19 08:55     590 4th St, Seattle, WA 98101 2019-07-05  \n",
       "2  07/29/19 12:41    861 Hill St, Atlanta, GA 30301 2019-07-29  \n",
       "3  07/28/19 10:15   190 Ridge St, Atlanta, GA 30301 2019-07-28  \n",
       "4  07/31/19 02:13  824 Forest St, Seattle, WA 98101 2019-07-31  "
      ]
     },
     "execution_count": 22,
     "metadata": {},
     "output_type": "execute_result"
    }
   ],
   "source": [
    "# adding date column (date)\n",
    "\n",
    "df[\"date\"] = df[\"Order Date\"].astype(str).str[:8]\n",
    "df[\"date\"] = pd.to_datetime(df[\"date\"])\n",
    "df.head()"
   ]
  },
  {
   "cell_type": "markdown",
   "id": "00e25c75-0d2e-4ef1-bedc-0ca8ad4b68ff",
   "metadata": {},
   "source": [
    "## What was the best month for sells?, How much the company sold that month ?"
   ]
  },
  {
   "cell_type": "code",
   "execution_count": 24,
   "id": "1ebc1453-fe71-450c-a478-000d092b05b4",
   "metadata": {
    "tags": []
   },
   "outputs": [],
   "source": [
    "# i want to sort my data with date\n",
    "\n",
    "df.sort_values(by=\"date\",inplace=True)"
   ]
  },
  {
   "cell_type": "code",
   "execution_count": 30,
   "id": "ffd94876-52ac-41e3-924a-5b32d8d0158c",
   "metadata": {
    "tags": []
   },
   "outputs": [],
   "source": [
    "# adding columns ( total ) Price Each * Quantity Ordered\n",
    "\n",
    "df[\"total\"] = df[\"Price Each\"] * df[\"Quantity Ordered\"]"
   ]
  },
  {
   "cell_type": "code",
   "execution_count": 58,
   "id": "ed73f4f7-bde3-45af-8f5a-7296af2c5a2d",
   "metadata": {
    "tags": []
   },
   "outputs": [
    {
     "data": {
      "text/plain": [
       "date\n",
       "1     1822256.73\n",
       "2     2202022.42\n",
       "3     2807100.38\n",
       "4     3390670.24\n",
       "5     3152606.75\n",
       "6     2577802.26\n",
       "7     2647775.76\n",
       "8     2244467.88\n",
       "9     2097560.13\n",
       "10    3736726.88\n",
       "11    3199603.20\n",
       "12    4613443.34\n",
       "Name: total, dtype: float64"
      ]
     },
     "execution_count": 58,
     "metadata": {},
     "output_type": "execute_result"
    }
   ],
   "source": [
    "# now i want to use this clean sorted date as index\n",
    "# and i want to see every months total of sells\n",
    "\n",
    "df.index = df[\"date\"]\n",
    "all_months_sells = df.groupby(by=[df.index.month])[\"total\"].sum()\n",
    "all_months_sells"
   ]
  },
  {
   "cell_type": "code",
   "execution_count": 65,
   "id": "7c2a5381-8fea-43ad-886b-58e93e98d1cc",
   "metadata": {
    "tags": []
   },
   "outputs": [
    {
     "data": {
      "image/png": "[encoded data removed]",
      "text/plain": [
       "<Figure size 640x480 with 1 Axes>"
      ]
     },
     "metadata": {},
     "output_type": "display_data"
    }
   ],
   "source": [
    "# let's visualize it with a vertical bar chart\n",
    "\n",
    "months = ['January', 'February', 'March', 'April', 'May', 'June', 'July', 'August', 'September', 'October', 'November', 'December']\n",
    "\n",
    "all_months_sells.index = months\n",
    "all_months_sells\n",
    "\n",
    "plt.barh(months,all_months_sells)\n",
    "\n",
    "\n",
    "plt.title(\"total of sells in months\")\n",
    "plt.xlabel(\"sells\")\n",
    "plt.ylabel(\"months\")\n",
    "\n",
    "plt.show()"
   ]
  },
  {
   "cell_type": "markdown",
   "id": "a2908186-14ff-42be-8563-fea8fb8f7d56",
   "metadata": {},
   "source": [
    "## what city had the highest sales ?"
   ]
  },
  {
   "cell_type": "code",
   "execution_count": 123,
   "id": "56eb28f6-7fa8-4a45-bc9f-98e08561d1f9",
   "metadata": {
    "tags": []
   },
   "outputs": [
    {
     "data": {
      "text/html": [
       "<div>\n",
       "<style scoped>\n",
       "    .dataframe tbody tr th:only-of-type {\n",
       "        vertical-align: middle;\n",
       "    }\n",
       "\n",
       "    .dataframe tbody tr th {\n",
       "        vertical-align: top;\n",
       "    }\n",
       "\n",
       "    .dataframe thead th {\n",
       "        text-align: right;\n",
       "    }\n",
       "</style>\n",
       "<table border=\"1\" class=\"dataframe\">\n",
       "  <thead>\n",
       "    <tr style=\"text-align: right;\">\n",
       "      <th></th>\n",
       "      <th>Order ID</th>\n",
       "      <th>Product</th>\n",
       "      <th>Quantity Ordered</th>\n",
       "      <th>Price Each</th>\n",
       "      <th>Order Date</th>\n",
       "      <th>Purchase Address</th>\n",
       "      <th>date</th>\n",
       "      <th>total</th>\n",
       "      <th>city</th>\n",
       "    </tr>\n",
       "    <tr>\n",
       "      <th>date</th>\n",
       "      <th></th>\n",
       "      <th></th>\n",
       "      <th></th>\n",
       "      <th></th>\n",
       "      <th></th>\n",
       "      <th></th>\n",
       "      <th></th>\n",
       "      <th></th>\n",
       "      <th></th>\n",
       "    </tr>\n",
       "  </thead>\n",
       "  <tbody>\n",
       "    <tr>\n",
       "      <th>2019-01-01</th>\n",
       "      <td>142290</td>\n",
       "      <td>Apple Airpods Headphones</td>\n",
       "      <td>1</td>\n",
       "      <td>150.00</td>\n",
       "      <td>01/01/19 20:54</td>\n",
       "      <td>392 Sunset St, Atlanta, GA 30301</td>\n",
       "      <td>2019-01-01</td>\n",
       "      <td>150.00</td>\n",
       "      <td>Atlanta (GA)</td>\n",
       "    </tr>\n",
       "    <tr>\n",
       "      <th>2019-01-01</th>\n",
       "      <td>149509</td>\n",
       "      <td>ThinkPad Laptop</td>\n",
       "      <td>1</td>\n",
       "      <td>999.99</td>\n",
       "      <td>01/01/19 14:04</td>\n",
       "      <td>493 Dogwood St, Seattle, WA 98101</td>\n",
       "      <td>2019-01-01</td>\n",
       "      <td>999.99</td>\n",
       "      <td>Seattle (WA)</td>\n",
       "    </tr>\n",
       "    <tr>\n",
       "      <th>2019-01-01</th>\n",
       "      <td>149524</td>\n",
       "      <td>AA Batteries (4-pack)</td>\n",
       "      <td>1</td>\n",
       "      <td>3.84</td>\n",
       "      <td>01/01/19 12:28</td>\n",
       "      <td>72 Main St, Portland, OR 97035</td>\n",
       "      <td>2019-01-01</td>\n",
       "      <td>3.84</td>\n",
       "      <td>Portland (OR)</td>\n",
       "    </tr>\n",
       "    <tr>\n",
       "      <th>2019-01-01</th>\n",
       "      <td>144368</td>\n",
       "      <td>Apple Airpods Headphones</td>\n",
       "      <td>1</td>\n",
       "      <td>150.00</td>\n",
       "      <td>01/01/19 17:17</td>\n",
       "      <td>249 8th St, San Francisco, CA 94016</td>\n",
       "      <td>2019-01-01</td>\n",
       "      <td>150.00</td>\n",
       "      <td>San Francisco (CA)</td>\n",
       "    </tr>\n",
       "    <tr>\n",
       "      <th>2019-01-01</th>\n",
       "      <td>149546</td>\n",
       "      <td>AA Batteries (4-pack)</td>\n",
       "      <td>1</td>\n",
       "      <td>3.84</td>\n",
       "      <td>01/01/19 17:57</td>\n",
       "      <td>223 Jefferson St, Boston, MA 02215</td>\n",
       "      <td>2019-01-01</td>\n",
       "      <td>3.84</td>\n",
       "      <td>Boston (MA)</td>\n",
       "    </tr>\n",
       "  </tbody>\n",
       "</table>\n",
       "</div>"
      ],
      "text/plain": [
       "            Order ID                   Product  Quantity Ordered  Price Each  \\\n",
       "date                                                                           \n",
       "2019-01-01    142290  Apple Airpods Headphones                 1      150.00   \n",
       "2019-01-01    149509           ThinkPad Laptop                 1      999.99   \n",
       "2019-01-01    149524     AA Batteries (4-pack)                 1        3.84   \n",
       "2019-01-01    144368  Apple Airpods Headphones                 1      150.00   \n",
       "2019-01-01    149546     AA Batteries (4-pack)                 1        3.84   \n",
       "\n",
       "                Order Date                     Purchase Address       date  \\\n",
       "date                                                                         \n",
       "2019-01-01  01/01/19 20:54     392 Sunset St, Atlanta, GA 30301 2019-01-01   \n",
       "2019-01-01  01/01/19 14:04    493 Dogwood St, Seattle, WA 98101 2019-01-01   \n",
       "2019-01-01  01/01/19 12:28       72 Main St, Portland, OR 97035 2019-01-01   \n",
       "2019-01-01  01/01/19 17:17  249 8th St, San Francisco, CA 94016 2019-01-01   \n",
       "2019-01-01  01/01/19 17:57   223 Jefferson St, Boston, MA 02215 2019-01-01   \n",
       "\n",
       "             total                 city  \n",
       "date                                     \n",
       "2019-01-01  150.00         Atlanta (GA)  \n",
       "2019-01-01  999.99         Seattle (WA)  \n",
       "2019-01-01    3.84        Portland (OR)  \n",
       "2019-01-01  150.00   San Francisco (CA)  \n",
       "2019-01-01    3.84          Boston (MA)  "
      ]
     },
     "execution_count": 123,
     "metadata": {},
     "output_type": "execute_result"
    }
   ],
   "source": [
    "# creating the city column\n",
    "\n",
    "df[\"city\"] = df[\"Purchase Address\"].apply(lambda x : x.split(\",\")[1]+\" (\"+ x.split(\",\")[2].split(\" \")[1]+\")\")\n",
    "df.head()"
   ]
  },
  {
   "cell_type": "code",
   "execution_count": 124,
   "id": "70e17124-23fc-4e8d-9653-9ed12b13032f",
   "metadata": {
    "tags": []
   },
   "outputs": [
    {
     "data": {
      "text/plain": [
       " San Francisco (CA)    44732\n",
       " Los Angeles (CA)      29605\n",
       " New York City (NY)    24876\n",
       " Boston (MA)           19934\n",
       " Atlanta (GA)          14881\n",
       " Dallas (TX)           14820\n",
       " Seattle (WA)          14732\n",
       " Portland (OR)         10010\n",
       " Austin (TX)            9905\n",
       " Portland (ME)          2455\n",
       "Name: city, dtype: int64"
      ]
     },
     "execution_count": 124,
     "metadata": {},
     "output_type": "execute_result"
    }
   ],
   "source": [
    "# let's see howmany sells each city had in the past year\n",
    "\n",
    "df[\"city\"].value_counts()"
   ]
  },
  {
   "cell_type": "code",
   "execution_count": 137,
   "id": "7c3c1f29-b232-4154-be53-caf3b800c6ab",
   "metadata": {
    "tags": []
   },
   "outputs": [],
   "source": [
    "# let's see the total sells of each city in the past year\n",
    "\n",
    "new_df = df.groupby(by=[\"city\"]).sum()"
   ]
  },
  {
   "cell_type": "code",
   "execution_count": 170,
   "id": "2c23fb12-56fd-4f19-b3fb-7e07f4f072e2",
   "metadata": {
    "tags": []
   },
   "outputs": [
    {
     "data": {
      "text/html": [
       "<div>\n",
       "<style scoped>\n",
       "    .dataframe tbody tr th:only-of-type {\n",
       "        vertical-align: middle;\n",
       "    }\n",
       "\n",
       "    .dataframe tbody tr th {\n",
       "        vertical-align: top;\n",
       "    }\n",
       "\n",
       "    .dataframe thead th {\n",
       "        text-align: right;\n",
       "    }\n",
       "</style>\n",
       "<table border=\"1\" class=\"dataframe\">\n",
       "  <thead>\n",
       "    <tr style=\"text-align: right;\">\n",
       "      <th></th>\n",
       "      <th>Order ID</th>\n",
       "      <th>Quantity Ordered</th>\n",
       "      <th>Price Each</th>\n",
       "      <th>total</th>\n",
       "    </tr>\n",
       "    <tr>\n",
       "      <th>city</th>\n",
       "      <th></th>\n",
       "      <th></th>\n",
       "      <th></th>\n",
       "      <th></th>\n",
       "    </tr>\n",
       "  </thead>\n",
       "  <tbody>\n",
       "    <tr>\n",
       "      <th>Portland (ME)</th>\n",
       "      <td>563266345</td>\n",
       "      <td>2750</td>\n",
       "      <td>447189.25</td>\n",
       "      <td>449758.27</td>\n",
       "    </tr>\n",
       "    <tr>\n",
       "      <th>Austin (TX)</th>\n",
       "      <td>2280982185</td>\n",
       "      <td>11153</td>\n",
       "      <td>1809873.61</td>\n",
       "      <td>1819581.75</td>\n",
       "    </tr>\n",
       "    <tr>\n",
       "      <th>Portland (OR)</th>\n",
       "      <td>2305594747</td>\n",
       "      <td>11303</td>\n",
       "      <td>1860558.22</td>\n",
       "      <td>1870732.34</td>\n",
       "    </tr>\n",
       "    <tr>\n",
       "      <th>Seattle (WA)</th>\n",
       "      <td>3406693974</td>\n",
       "      <td>16553</td>\n",
       "      <td>2733296.01</td>\n",
       "      <td>2747755.48</td>\n",
       "    </tr>\n",
       "    <tr>\n",
       "      <th>Dallas (TX)</th>\n",
       "      <td>3415643578</td>\n",
       "      <td>16730</td>\n",
       "      <td>2752627.82</td>\n",
       "      <td>2767975.40</td>\n",
       "    </tr>\n",
       "    <tr>\n",
       "      <th>Atlanta (GA)</th>\n",
       "      <td>3423838407</td>\n",
       "      <td>16602</td>\n",
       "      <td>2779908.20</td>\n",
       "      <td>2795498.58</td>\n",
       "    </tr>\n",
       "    <tr>\n",
       "      <th>Boston (MA)</th>\n",
       "      <td>4598265261</td>\n",
       "      <td>22528</td>\n",
       "      <td>3637409.77</td>\n",
       "      <td>3661642.01</td>\n",
       "    </tr>\n",
       "    <tr>\n",
       "      <th>New York City (NY)</th>\n",
       "      <td>5736333884</td>\n",
       "      <td>27932</td>\n",
       "      <td>4635370.83</td>\n",
       "      <td>4664317.43</td>\n",
       "    </tr>\n",
       "    <tr>\n",
       "      <th>Los Angeles (CA)</th>\n",
       "      <td>6811084693</td>\n",
       "      <td>33289</td>\n",
       "      <td>5421435.23</td>\n",
       "      <td>5452570.80</td>\n",
       "    </tr>\n",
       "    <tr>\n",
       "      <th>San Francisco (CA)</th>\n",
       "      <td>10304443952</td>\n",
       "      <td>50239</td>\n",
       "      <td>8211461.74</td>\n",
       "      <td>8262203.91</td>\n",
       "    </tr>\n",
       "  </tbody>\n",
       "</table>\n",
       "</div>"
      ],
      "text/plain": [
       "                        Order ID  Quantity Ordered  Price Each       total\n",
       "city                                                                      \n",
       " Portland (ME)         563266345              2750   447189.25   449758.27\n",
       " Austin (TX)          2280982185             11153  1809873.61  1819581.75\n",
       " Portland (OR)        2305594747             11303  1860558.22  1870732.34\n",
       " Seattle (WA)         3406693974             16553  2733296.01  2747755.48\n",
       " Dallas (TX)          3415643578             16730  2752627.82  2767975.40\n",
       " Atlanta (GA)         3423838407             16602  2779908.20  2795498.58\n",
       " Boston (MA)          4598265261             22528  3637409.77  3661642.01\n",
       " New York City (NY)   5736333884             27932  4635370.83  4664317.43\n",
       " Los Angeles (CA)     6811084693             33289  5421435.23  5452570.80\n",
       " San Francisco (CA)  10304443952             50239  8211461.74  8262203.91"
      ]
     },
     "execution_count": 170,
     "metadata": {},
     "output_type": "execute_result"
    }
   ],
   "source": [
    "# let's sort the data\n",
    "\n",
    "new_df.sort_values(by=\"total\",ascending=True,inplace=True)\n",
    "new_df"
   ]
  },
  {
   "cell_type": "code",
   "execution_count": 171,
   "id": "222f4623-7e56-4b67-ae50-6a35e1fe96e1",
   "metadata": {
    "tags": []
   },
   "outputs": [
    {
     "data": {
      "text/plain": [
       "Index([' Portland (ME)', ' Austin (TX)', ' Portland (OR)', ' Seattle (WA)',\n",
       "       ' Dallas (TX)', ' Atlanta (GA)', ' Boston (MA)', ' New York City (NY)',\n",
       "       ' Los Angeles (CA)', ' San Francisco (CA)'],\n",
       "      dtype='object', name='city')"
      ]
     },
     "execution_count": 171,
     "metadata": {},
     "output_type": "execute_result"
    }
   ],
   "source": [
    "new_df.index"
   ]
  },
  {
   "cell_type": "code",
   "execution_count": 247,
   "id": "af105a35-4272-45ba-aefe-ab398d2b923e",
   "metadata": {
    "tags": []
   },
   "outputs": [
    {
     "data": {
      "image/png": "[encoded data removed]",
      "text/plain": [
       "<Figure size 640x480 with 1 Axes>"
      ]
     },
     "metadata": {},
     "output_type": "display_data"
    }
   ],
   "source": [
    "# let's visualize it with a vertical bar chart\n",
    "\n",
    "plt.barh(new_df.index,new_df[\"total\"])\n",
    "plt.title(\"Total sells of each city\")\n",
    "plt.xlabel(\"Sold Amount(USD)\")\n",
    "plt.ylabel(\"Cities\")\n",
    "\n",
    "plt.show()"
   ]
  },
  {
   "cell_type": "markdown",
   "id": "e20f7451-4d2b-4f34-b10e-d77f4dbd7cb1",
   "metadata": {},
   "source": [
    "## what time should we display advertisements to maximize likelihood of customer buying our products?"
   ]
  },
  {
   "cell_type": "code",
   "execution_count": 182,
   "id": "89440eb2-d2f3-4c8d-82de-c3fb39498bb0",
   "metadata": {
    "tags": []
   },
   "outputs": [],
   "source": [
    "df[\"Order Date\"] = pd.to_datetime(df[\"Order Date\"])"
   ]
  },
  {
   "cell_type": "code",
   "execution_count": 184,
   "id": "f951d766-1167-4d19-b271-0623080f6404",
   "metadata": {
    "tags": []
   },
   "outputs": [],
   "source": [
    "df[\"hour\"] = df[\"Order Date\"].dt.hour"
   ]
  },
  {
   "cell_type": "code",
   "execution_count": 199,
   "id": "3535f461-54dc-496b-a0c3-92850f4eb1f8",
   "metadata": {
    "tags": []
   },
   "outputs": [
    {
     "data": {
      "image/png": "[encoded data removed]",
      "text/plain": [
       "<Figure size 640x480 with 1 Axes>"
      ]
     },
     "metadata": {},
     "output_type": "display_data"
    }
   ],
   "source": [
    "#  let's visualize it with a lineplot\n",
    "\n",
    "hours = [hour for hour,df in df.groupby(\"hour\")]\n",
    "plt.plot(hours,df.groupby(df[\"hour\"])[\"Quantity Ordered\"].sum())\n",
    "plt.xticks(hours)\n",
    "plt.grid()\n",
    "plt.title(\"Orders in Hours\")\n",
    "plt.xlabel(\"hours\")\n",
    "plt.ylabel(\"amount of orders\")\n",
    "\n",
    "plt.show()\n",
    "\n",
    "# best time is around 11 AM or 7PM(19) "
   ]
  },
  {
   "cell_type": "code",
   "execution_count": 185,
   "id": "0972677a-4e26-4dbc-b8c9-dfbd027de1b9",
   "metadata": {
    "tags": []
   },
   "outputs": [
    {
     "data": {
      "text/html": [
       "<div>\n",
       "<style scoped>\n",
       "    .dataframe tbody tr th:only-of-type {\n",
       "        vertical-align: middle;\n",
       "    }\n",
       "\n",
       "    .dataframe tbody tr th {\n",
       "        vertical-align: top;\n",
       "    }\n",
       "\n",
       "    .dataframe thead th {\n",
       "        text-align: right;\n",
       "    }\n",
       "</style>\n",
       "<table border=\"1\" class=\"dataframe\">\n",
       "  <thead>\n",
       "    <tr style=\"text-align: right;\">\n",
       "      <th></th>\n",
       "      <th>Order ID</th>\n",
       "      <th>Product</th>\n",
       "      <th>Quantity Ordered</th>\n",
       "      <th>Price Each</th>\n",
       "      <th>Order Date</th>\n",
       "      <th>Purchase Address</th>\n",
       "      <th>date</th>\n",
       "      <th>total</th>\n",
       "      <th>city</th>\n",
       "      <th>hour</th>\n",
       "    </tr>\n",
       "    <tr>\n",
       "      <th>date</th>\n",
       "      <th></th>\n",
       "      <th></th>\n",
       "      <th></th>\n",
       "      <th></th>\n",
       "      <th></th>\n",
       "      <th></th>\n",
       "      <th></th>\n",
       "      <th></th>\n",
       "      <th></th>\n",
       "      <th></th>\n",
       "    </tr>\n",
       "  </thead>\n",
       "  <tbody>\n",
       "    <tr>\n",
       "      <th>2019-01-01</th>\n",
       "      <td>142290</td>\n",
       "      <td>Apple Airpods Headphones</td>\n",
       "      <td>1</td>\n",
       "      <td>150.00</td>\n",
       "      <td>2019-01-01 20:54:00</td>\n",
       "      <td>392 Sunset St, Atlanta, GA 30301</td>\n",
       "      <td>2019-01-01</td>\n",
       "      <td>150.00</td>\n",
       "      <td>Atlanta (GA)</td>\n",
       "      <td>20</td>\n",
       "    </tr>\n",
       "    <tr>\n",
       "      <th>2019-01-01</th>\n",
       "      <td>149509</td>\n",
       "      <td>ThinkPad Laptop</td>\n",
       "      <td>1</td>\n",
       "      <td>999.99</td>\n",
       "      <td>2019-01-01 14:04:00</td>\n",
       "      <td>493 Dogwood St, Seattle, WA 98101</td>\n",
       "      <td>2019-01-01</td>\n",
       "      <td>999.99</td>\n",
       "      <td>Seattle (WA)</td>\n",
       "      <td>14</td>\n",
       "    </tr>\n",
       "    <tr>\n",
       "      <th>2019-01-01</th>\n",
       "      <td>149524</td>\n",
       "      <td>AA Batteries (4-pack)</td>\n",
       "      <td>1</td>\n",
       "      <td>3.84</td>\n",
       "      <td>2019-01-01 12:28:00</td>\n",
       "      <td>72 Main St, Portland, OR 97035</td>\n",
       "      <td>2019-01-01</td>\n",
       "      <td>3.84</td>\n",
       "      <td>Portland (OR)</td>\n",
       "      <td>12</td>\n",
       "    </tr>\n",
       "    <tr>\n",
       "      <th>2019-01-01</th>\n",
       "      <td>144368</td>\n",
       "      <td>Apple Airpods Headphones</td>\n",
       "      <td>1</td>\n",
       "      <td>150.00</td>\n",
       "      <td>2019-01-01 17:17:00</td>\n",
       "      <td>249 8th St, San Francisco, CA 94016</td>\n",
       "      <td>2019-01-01</td>\n",
       "      <td>150.00</td>\n",
       "      <td>San Francisco (CA)</td>\n",
       "      <td>17</td>\n",
       "    </tr>\n",
       "    <tr>\n",
       "      <th>2019-01-01</th>\n",
       "      <td>149546</td>\n",
       "      <td>AA Batteries (4-pack)</td>\n",
       "      <td>1</td>\n",
       "      <td>3.84</td>\n",
       "      <td>2019-01-01 17:57:00</td>\n",
       "      <td>223 Jefferson St, Boston, MA 02215</td>\n",
       "      <td>2019-01-01</td>\n",
       "      <td>3.84</td>\n",
       "      <td>Boston (MA)</td>\n",
       "      <td>17</td>\n",
       "    </tr>\n",
       "  </tbody>\n",
       "</table>\n",
       "</div>"
      ],
      "text/plain": [
       "            Order ID                   Product  Quantity Ordered  Price Each  \\\n",
       "date                                                                           \n",
       "2019-01-01    142290  Apple Airpods Headphones                 1      150.00   \n",
       "2019-01-01    149509           ThinkPad Laptop                 1      999.99   \n",
       "2019-01-01    149524     AA Batteries (4-pack)                 1        3.84   \n",
       "2019-01-01    144368  Apple Airpods Headphones                 1      150.00   \n",
       "2019-01-01    149546     AA Batteries (4-pack)                 1        3.84   \n",
       "\n",
       "                    Order Date                     Purchase Address  \\\n",
       "date                                                                  \n",
       "2019-01-01 2019-01-01 20:54:00     392 Sunset St, Atlanta, GA 30301   \n",
       "2019-01-01 2019-01-01 14:04:00    493 Dogwood St, Seattle, WA 98101   \n",
       "2019-01-01 2019-01-01 12:28:00       72 Main St, Portland, OR 97035   \n",
       "2019-01-01 2019-01-01 17:17:00  249 8th St, San Francisco, CA 94016   \n",
       "2019-01-01 2019-01-01 17:57:00   223 Jefferson St, Boston, MA 02215   \n",
       "\n",
       "                 date   total                 city  hour  \n",
       "date                                                      \n",
       "2019-01-01 2019-01-01  150.00         Atlanta (GA)    20  \n",
       "2019-01-01 2019-01-01  999.99         Seattle (WA)    14  \n",
       "2019-01-01 2019-01-01    3.84        Portland (OR)    12  \n",
       "2019-01-01 2019-01-01  150.00   San Francisco (CA)    17  \n",
       "2019-01-01 2019-01-01    3.84          Boston (MA)    17  "
      ]
     },
     "execution_count": 185,
     "metadata": {},
     "output_type": "execute_result"
    }
   ],
   "source": [
    "df.head()"
   ]
  },
  {
   "cell_type": "markdown",
   "id": "d9c47dbf-42ae-4e0a-a217-f9c8c74fe2b7",
   "metadata": {},
   "source": [
    "## What are the 10 Products most often sold together?"
   ]
  },
  {
   "cell_type": "code",
   "execution_count": 222,
   "id": "cde5b3f7-81c9-41b4-85be-cb96f632254f",
   "metadata": {
    "tags": []
   },
   "outputs": [
    {
     "name": "stderr",
     "output_type": "stream",
     "text": [
      "/tmp/ipykernel_3021/3279686172.py:2: SettingWithCopyWarning: \n",
      "A value is trying to be set on a copy of a slice from a DataFrame.\n",
      "Try using .loc[row_indexer,col_indexer] = value instead\n",
      "\n",
      "See the caveats in the documentation: https://pandas.pydata.org/pandas-docs/stable/user_guide/indexing.html#returning-a-view-versus-a-copy\n",
      "  dup[\"grouped\"] = dup.groupby([\"Order ID\"])[\"Product\"].transform(lambda x: \",\".join(x))\n"
     ]
    },
    {
     "data": {
      "text/html": [
       "<div>\n",
       "<style scoped>\n",
       "    .dataframe tbody tr th:only-of-type {\n",
       "        vertical-align: middle;\n",
       "    }\n",
       "\n",
       "    .dataframe tbody tr th {\n",
       "        vertical-align: top;\n",
       "    }\n",
       "\n",
       "    .dataframe thead th {\n",
       "        text-align: right;\n",
       "    }\n",
       "</style>\n",
       "<table border=\"1\" class=\"dataframe\">\n",
       "  <thead>\n",
       "    <tr style=\"text-align: right;\">\n",
       "      <th></th>\n",
       "      <th>Order ID</th>\n",
       "      <th>Product</th>\n",
       "      <th>Quantity Ordered</th>\n",
       "      <th>Price Each</th>\n",
       "      <th>Order Date</th>\n",
       "      <th>Purchase Address</th>\n",
       "      <th>date</th>\n",
       "      <th>total</th>\n",
       "      <th>city</th>\n",
       "      <th>hour</th>\n",
       "      <th>grouped</th>\n",
       "    </tr>\n",
       "    <tr>\n",
       "      <th>date</th>\n",
       "      <th></th>\n",
       "      <th></th>\n",
       "      <th></th>\n",
       "      <th></th>\n",
       "      <th></th>\n",
       "      <th></th>\n",
       "      <th></th>\n",
       "      <th></th>\n",
       "      <th></th>\n",
       "      <th></th>\n",
       "      <th></th>\n",
       "    </tr>\n",
       "  </thead>\n",
       "  <tbody>\n",
       "    <tr>\n",
       "      <th>2019-01-01</th>\n",
       "      <td>149546</td>\n",
       "      <td>AA Batteries (4-pack)</td>\n",
       "      <td>1</td>\n",
       "      <td>3.84</td>\n",
       "      <td>2019-01-01 17:57:00</td>\n",
       "      <td>223 Jefferson St, Boston, MA 02215</td>\n",
       "      <td>2019-01-01</td>\n",
       "      <td>3.84</td>\n",
       "      <td>Boston (MA)</td>\n",
       "      <td>17</td>\n",
       "      <td>AA Batteries (4-pack),Bose SoundSport Headphones</td>\n",
       "    </tr>\n",
       "    <tr>\n",
       "      <th>2019-01-01</th>\n",
       "      <td>149546</td>\n",
       "      <td>Bose SoundSport Headphones</td>\n",
       "      <td>1</td>\n",
       "      <td>99.99</td>\n",
       "      <td>2019-01-01 17:57:00</td>\n",
       "      <td>223 Jefferson St, Boston, MA 02215</td>\n",
       "      <td>2019-01-01</td>\n",
       "      <td>99.99</td>\n",
       "      <td>Boston (MA)</td>\n",
       "      <td>17</td>\n",
       "      <td>AA Batteries (4-pack),Bose SoundSport Headphones</td>\n",
       "    </tr>\n",
       "    <tr>\n",
       "      <th>2019-01-01</th>\n",
       "      <td>144804</td>\n",
       "      <td>Wired Headphones</td>\n",
       "      <td>1</td>\n",
       "      <td>11.99</td>\n",
       "      <td>2019-01-01 07:29:00</td>\n",
       "      <td>628 Lake St, New York City, NY 10001</td>\n",
       "      <td>2019-01-01</td>\n",
       "      <td>11.99</td>\n",
       "      <td>New York City (NY)</td>\n",
       "      <td>7</td>\n",
       "      <td>Wired Headphones,iPhone</td>\n",
       "    </tr>\n",
       "    <tr>\n",
       "      <th>2019-01-01</th>\n",
       "      <td>144804</td>\n",
       "      <td>iPhone</td>\n",
       "      <td>1</td>\n",
       "      <td>700.00</td>\n",
       "      <td>2019-01-01 07:29:00</td>\n",
       "      <td>628 Lake St, New York City, NY 10001</td>\n",
       "      <td>2019-01-01</td>\n",
       "      <td>700.00</td>\n",
       "      <td>New York City (NY)</td>\n",
       "      <td>7</td>\n",
       "      <td>Wired Headphones,iPhone</td>\n",
       "    </tr>\n",
       "    <tr>\n",
       "      <th>2019-01-01</th>\n",
       "      <td>144679</td>\n",
       "      <td>USB-C Charging Cable</td>\n",
       "      <td>1</td>\n",
       "      <td>11.95</td>\n",
       "      <td>2019-01-01 12:51:00</td>\n",
       "      <td>984 Lakeview St, San Francisco, CA 94016</td>\n",
       "      <td>2019-01-01</td>\n",
       "      <td>11.95</td>\n",
       "      <td>San Francisco (CA)</td>\n",
       "      <td>12</td>\n",
       "      <td>USB-C Charging Cable,Google Phone</td>\n",
       "    </tr>\n",
       "  </tbody>\n",
       "</table>\n",
       "</div>"
      ],
      "text/plain": [
       "            Order ID                     Product  Quantity Ordered  \\\n",
       "date                                                                 \n",
       "2019-01-01    149546       AA Batteries (4-pack)                 1   \n",
       "2019-01-01    149546  Bose SoundSport Headphones                 1   \n",
       "2019-01-01    144804            Wired Headphones                 1   \n",
       "2019-01-01    144804                      iPhone                 1   \n",
       "2019-01-01    144679        USB-C Charging Cable                 1   \n",
       "\n",
       "            Price Each          Order Date  \\\n",
       "date                                         \n",
       "2019-01-01        3.84 2019-01-01 17:57:00   \n",
       "2019-01-01       99.99 2019-01-01 17:57:00   \n",
       "2019-01-01       11.99 2019-01-01 07:29:00   \n",
       "2019-01-01      700.00 2019-01-01 07:29:00   \n",
       "2019-01-01       11.95 2019-01-01 12:51:00   \n",
       "\n",
       "                                    Purchase Address       date   total  \\\n",
       "date                                                                      \n",
       "2019-01-01        223 Jefferson St, Boston, MA 02215 2019-01-01    3.84   \n",
       "2019-01-01        223 Jefferson St, Boston, MA 02215 2019-01-01   99.99   \n",
       "2019-01-01      628 Lake St, New York City, NY 10001 2019-01-01   11.99   \n",
       "2019-01-01      628 Lake St, New York City, NY 10001 2019-01-01  700.00   \n",
       "2019-01-01  984 Lakeview St, San Francisco, CA 94016 2019-01-01   11.95   \n",
       "\n",
       "                           city  hour  \\\n",
       "date                                    \n",
       "2019-01-01          Boston (MA)    17   \n",
       "2019-01-01          Boston (MA)    17   \n",
       "2019-01-01   New York City (NY)     7   \n",
       "2019-01-01   New York City (NY)     7   \n",
       "2019-01-01   San Francisco (CA)    12   \n",
       "\n",
       "                                                     grouped  \n",
       "date                                                          \n",
       "2019-01-01  AA Batteries (4-pack),Bose SoundSport Headphones  \n",
       "2019-01-01  AA Batteries (4-pack),Bose SoundSport Headphones  \n",
       "2019-01-01                           Wired Headphones,iPhone  \n",
       "2019-01-01                           Wired Headphones,iPhone  \n",
       "2019-01-01                 USB-C Charging Cable,Google Phone  "
      ]
     },
     "execution_count": 222,
     "metadata": {},
     "output_type": "execute_result"
    }
   ],
   "source": [
    "# creating a new dataframe with all duplicates in Order ID column\n",
    "# and creating the new column to check for most together solds ( grouped )\n",
    "\n",
    "dup = df[df[\"Order ID\"].duplicated(keep=False)]\n",
    "dup[\"grouped\"] = dup.groupby([\"Order ID\"])[\"Product\"].transform(lambda x: \",\".join(x))\n",
    "dup.head()"
   ]
  },
  {
   "cell_type": "code",
   "execution_count": 225,
   "id": "9368c3a2-7df5-4642-b1bd-26377d1f09d5",
   "metadata": {
    "tags": []
   },
   "outputs": [
    {
     "data": {
      "text/html": [
       "<div>\n",
       "<style scoped>\n",
       "    .dataframe tbody tr th:only-of-type {\n",
       "        vertical-align: middle;\n",
       "    }\n",
       "\n",
       "    .dataframe tbody tr th {\n",
       "        vertical-align: top;\n",
       "    }\n",
       "\n",
       "    .dataframe thead th {\n",
       "        text-align: right;\n",
       "    }\n",
       "</style>\n",
       "<table border=\"1\" class=\"dataframe\">\n",
       "  <thead>\n",
       "    <tr style=\"text-align: right;\">\n",
       "      <th></th>\n",
       "      <th>Order ID</th>\n",
       "      <th>grouped</th>\n",
       "    </tr>\n",
       "    <tr>\n",
       "      <th>date</th>\n",
       "      <th></th>\n",
       "      <th></th>\n",
       "    </tr>\n",
       "  </thead>\n",
       "  <tbody>\n",
       "    <tr>\n",
       "      <th>2019-01-01</th>\n",
       "      <td>149546</td>\n",
       "      <td>AA Batteries (4-pack),Bose SoundSport Headphones</td>\n",
       "    </tr>\n",
       "    <tr>\n",
       "      <th>2019-01-01</th>\n",
       "      <td>144804</td>\n",
       "      <td>Wired Headphones,iPhone</td>\n",
       "    </tr>\n",
       "    <tr>\n",
       "      <th>2019-01-01</th>\n",
       "      <td>144679</td>\n",
       "      <td>USB-C Charging Cable,Google Phone</td>\n",
       "    </tr>\n",
       "    <tr>\n",
       "      <th>2019-01-01</th>\n",
       "      <td>143738</td>\n",
       "      <td>Lightning Charging Cable,iPhone</td>\n",
       "    </tr>\n",
       "    <tr>\n",
       "      <th>2019-01-01</th>\n",
       "      <td>141789</td>\n",
       "      <td>Google Phone,USB-C Charging Cable</td>\n",
       "    </tr>\n",
       "  </tbody>\n",
       "</table>\n",
       "</div>"
      ],
      "text/plain": [
       "            Order ID                                           grouped\n",
       "date                                                                  \n",
       "2019-01-01    149546  AA Batteries (4-pack),Bose SoundSport Headphones\n",
       "2019-01-01    144804                           Wired Headphones,iPhone\n",
       "2019-01-01    144679                 USB-C Charging Cable,Google Phone\n",
       "2019-01-01    143738                   Lightning Charging Cable,iPhone\n",
       "2019-01-01    141789                 Google Phone,USB-C Charging Cable"
      ]
     },
     "execution_count": 225,
     "metadata": {},
     "output_type": "execute_result"
    }
   ],
   "source": [
    "# delteing duplicates from Order ID and grouped columns from dataframe we just create\n",
    "\n",
    "together_solds = dup[[\"Order ID\",\"grouped\"]].drop_duplicates()\n",
    "together_solds.head()"
   ]
  },
  {
   "cell_type": "code",
   "execution_count": 231,
   "id": "562d00f5-9712-4c86-9931-96f86be25173",
   "metadata": {
    "tags": []
   },
   "outputs": [
    {
     "data": {
      "text/plain": [
       "[(('Lightning Charging Cable', 'iPhone'), 508),\n",
       " (('iPhone', 'Lightning Charging Cable'), 507),\n",
       " (('Google Phone', 'USB-C Charging Cable'), 500),\n",
       " (('USB-C Charging Cable', 'Google Phone'), 499),\n",
       " (('Wired Headphones', 'iPhone'), 239),\n",
       " (('Google Phone', 'Wired Headphones'), 231),\n",
       " (('iPhone', 'Wired Headphones'), 223),\n",
       " (('iPhone', 'Apple Airpods Headphones'), 198),\n",
       " (('Wired Headphones', 'Google Phone'), 192),\n",
       " (('USB-C Charging Cable', 'Vareebadd Phone'), 185)]"
      ]
     },
     "execution_count": 231,
     "metadata": {},
     "output_type": "execute_result"
    }
   ],
   "source": [
    "# using Counter and Combination in a Groupby Method to create a list\n",
    "# of 2 highest sold product and count them with no duplicate\n",
    "\n",
    "count = Counter()\n",
    "\n",
    "for row in together_solds[\"grouped\"]:\n",
    "    row_list = row.split(\",\")\n",
    "    count.update(Counter(combinations(row_list,2)))\n",
    "count.most_common(10)\n",
    "# The result is below"
   ]
  },
  {
   "cell_type": "markdown",
   "id": "399a5acf-5733-48e8-b920-4fcb9805bd38",
   "metadata": {},
   "source": [
    "## What product sold the most?"
   ]
  },
  {
   "cell_type": "code",
   "execution_count": 232,
   "id": "c3ebce2c-c7fd-40b8-a390-9d55118271f5",
   "metadata": {
    "tags": []
   },
   "outputs": [
    {
     "data": {
      "text/html": [
       "<div>\n",
       "<style scoped>\n",
       "    .dataframe tbody tr th:only-of-type {\n",
       "        vertical-align: middle;\n",
       "    }\n",
       "\n",
       "    .dataframe tbody tr th {\n",
       "        vertical-align: top;\n",
       "    }\n",
       "\n",
       "    .dataframe thead th {\n",
       "        text-align: right;\n",
       "    }\n",
       "</style>\n",
       "<table border=\"1\" class=\"dataframe\">\n",
       "  <thead>\n",
       "    <tr style=\"text-align: right;\">\n",
       "      <th></th>\n",
       "      <th>Order ID</th>\n",
       "      <th>Product</th>\n",
       "      <th>Quantity Ordered</th>\n",
       "      <th>Price Each</th>\n",
       "      <th>Order Date</th>\n",
       "      <th>Purchase Address</th>\n",
       "      <th>date</th>\n",
       "      <th>total</th>\n",
       "      <th>city</th>\n",
       "      <th>hour</th>\n",
       "    </tr>\n",
       "    <tr>\n",
       "      <th>date</th>\n",
       "      <th></th>\n",
       "      <th></th>\n",
       "      <th></th>\n",
       "      <th></th>\n",
       "      <th></th>\n",
       "      <th></th>\n",
       "      <th></th>\n",
       "      <th></th>\n",
       "      <th></th>\n",
       "      <th></th>\n",
       "    </tr>\n",
       "  </thead>\n",
       "  <tbody>\n",
       "    <tr>\n",
       "      <th>2019-01-01</th>\n",
       "      <td>142290</td>\n",
       "      <td>Apple Airpods Headphones</td>\n",
       "      <td>1</td>\n",
       "      <td>150.00</td>\n",
       "      <td>2019-01-01 20:54:00</td>\n",
       "      <td>392 Sunset St, Atlanta, GA 30301</td>\n",
       "      <td>2019-01-01</td>\n",
       "      <td>150.00</td>\n",
       "      <td>Atlanta (GA)</td>\n",
       "      <td>20</td>\n",
       "    </tr>\n",
       "    <tr>\n",
       "      <th>2019-01-01</th>\n",
       "      <td>149509</td>\n",
       "      <td>ThinkPad Laptop</td>\n",
       "      <td>1</td>\n",
       "      <td>999.99</td>\n",
       "      <td>2019-01-01 14:04:00</td>\n",
       "      <td>493 Dogwood St, Seattle, WA 98101</td>\n",
       "      <td>2019-01-01</td>\n",
       "      <td>999.99</td>\n",
       "      <td>Seattle (WA)</td>\n",
       "      <td>14</td>\n",
       "    </tr>\n",
       "    <tr>\n",
       "      <th>2019-01-01</th>\n",
       "      <td>149524</td>\n",
       "      <td>AA Batteries (4-pack)</td>\n",
       "      <td>1</td>\n",
       "      <td>3.84</td>\n",
       "      <td>2019-01-01 12:28:00</td>\n",
       "      <td>72 Main St, Portland, OR 97035</td>\n",
       "      <td>2019-01-01</td>\n",
       "      <td>3.84</td>\n",
       "      <td>Portland (OR)</td>\n",
       "      <td>12</td>\n",
       "    </tr>\n",
       "    <tr>\n",
       "      <th>2019-01-01</th>\n",
       "      <td>144368</td>\n",
       "      <td>Apple Airpods Headphones</td>\n",
       "      <td>1</td>\n",
       "      <td>150.00</td>\n",
       "      <td>2019-01-01 17:17:00</td>\n",
       "      <td>249 8th St, San Francisco, CA 94016</td>\n",
       "      <td>2019-01-01</td>\n",
       "      <td>150.00</td>\n",
       "      <td>San Francisco (CA)</td>\n",
       "      <td>17</td>\n",
       "    </tr>\n",
       "    <tr>\n",
       "      <th>2019-01-01</th>\n",
       "      <td>149546</td>\n",
       "      <td>AA Batteries (4-pack)</td>\n",
       "      <td>1</td>\n",
       "      <td>3.84</td>\n",
       "      <td>2019-01-01 17:57:00</td>\n",
       "      <td>223 Jefferson St, Boston, MA 02215</td>\n",
       "      <td>2019-01-01</td>\n",
       "      <td>3.84</td>\n",
       "      <td>Boston (MA)</td>\n",
       "      <td>17</td>\n",
       "    </tr>\n",
       "  </tbody>\n",
       "</table>\n",
       "</div>"
      ],
      "text/plain": [
       "            Order ID                   Product  Quantity Ordered  Price Each  \\\n",
       "date                                                                           \n",
       "2019-01-01    142290  Apple Airpods Headphones                 1      150.00   \n",
       "2019-01-01    149509           ThinkPad Laptop                 1      999.99   \n",
       "2019-01-01    149524     AA Batteries (4-pack)                 1        3.84   \n",
       "2019-01-01    144368  Apple Airpods Headphones                 1      150.00   \n",
       "2019-01-01    149546     AA Batteries (4-pack)                 1        3.84   \n",
       "\n",
       "                    Order Date                     Purchase Address  \\\n",
       "date                                                                  \n",
       "2019-01-01 2019-01-01 20:54:00     392 Sunset St, Atlanta, GA 30301   \n",
       "2019-01-01 2019-01-01 14:04:00    493 Dogwood St, Seattle, WA 98101   \n",
       "2019-01-01 2019-01-01 12:28:00       72 Main St, Portland, OR 97035   \n",
       "2019-01-01 2019-01-01 17:17:00  249 8th St, San Francisco, CA 94016   \n",
       "2019-01-01 2019-01-01 17:57:00   223 Jefferson St, Boston, MA 02215   \n",
       "\n",
       "                 date   total                 city  hour  \n",
       "date                                                      \n",
       "2019-01-01 2019-01-01  150.00         Atlanta (GA)    20  \n",
       "2019-01-01 2019-01-01  999.99         Seattle (WA)    14  \n",
       "2019-01-01 2019-01-01    3.84        Portland (OR)    12  \n",
       "2019-01-01 2019-01-01  150.00   San Francisco (CA)    17  \n",
       "2019-01-01 2019-01-01    3.84          Boston (MA)    17  "
      ]
     },
     "execution_count": 232,
     "metadata": {},
     "output_type": "execute_result"
    }
   ],
   "source": [
    "df.head()"
   ]
  },
  {
   "cell_type": "code",
   "execution_count": 238,
   "id": "9c554866-a0cb-47a0-a459-40146c12afd0",
   "metadata": {
    "tags": []
   },
   "outputs": [
    {
     "data": {
      "text/plain": [
       "Product\n",
       "LG Dryer                        646\n",
       "LG Washing Machine              666\n",
       "Vareebadd Phone                2068\n",
       "20in Monitor                   4129\n",
       "ThinkPad Laptop                4130\n",
       "Macbook Pro Laptop             4728\n",
       "Flatscreen TV                  4819\n",
       "Google Phone                   5532\n",
       "34in Ultrawide Monitor         6199\n",
       "27in 4K Gaming Monitor         6244\n",
       "iPhone                         6849\n",
       "27in FHD Monitor               7550\n",
       "Bose SoundSport Headphones    13457\n",
       "Apple Airpods Headphones      15661\n",
       "Wired Headphones              20557\n",
       "Lightning Charging Cable      23217\n",
       "USB-C Charging Cable          23975\n",
       "AA Batteries (4-pack)         27635\n",
       "AAA Batteries (4-pack)        31017\n",
       "Name: Quantity Ordered, dtype: int64"
      ]
     },
     "execution_count": 238,
     "metadata": {},
     "output_type": "execute_result"
    }
   ],
   "source": [
    "# sorting values in sells of products for better visualization and accuracy\n",
    "\n",
    "sold_p = df.groupby([\"Product\"])[\"Quantity Ordered\"].sum().sort_values()\n",
    "sold_p"
   ]
  },
  {
   "cell_type": "code",
   "execution_count": 240,
   "id": "609a7975-001a-4047-8a81-e5e93913ec86",
   "metadata": {
    "tags": []
   },
   "outputs": [
    {
     "data": {
      "text/plain": [
       "Index(['LG Dryer', 'LG Washing Machine', 'Vareebadd Phone', '20in Monitor',\n",
       "       'ThinkPad Laptop', 'Macbook Pro Laptop', 'Flatscreen TV',\n",
       "       'Google Phone', '34in Ultrawide Monitor', '27in 4K Gaming Monitor',\n",
       "       'iPhone', '27in FHD Monitor', 'Bose SoundSport Headphones',\n",
       "       'Apple Airpods Headphones', 'Wired Headphones',\n",
       "       'Lightning Charging Cable', 'USB-C Charging Cable',\n",
       "       'AA Batteries (4-pack)', 'AAA Batteries (4-pack)'],\n",
       "      dtype='object', name='Product')"
      ]
     },
     "execution_count": 240,
     "metadata": {},
     "output_type": "execute_result"
    }
   ],
   "source": [
    "sold_p.index"
   ]
  },
  {
   "cell_type": "code",
   "execution_count": 243,
   "id": "6ea88edf-cae6-45b6-bfcb-3d3b18788b42",
   "metadata": {
    "tags": []
   },
   "outputs": [
    {
     "data": {
      "image/png": "[encoded data removed]",
      "text/plain": [
       "<Figure size 640x480 with 1 Axes>"
      ]
     },
     "metadata": {},
     "output_type": "display_data"
    }
   ],
   "source": [
    "# let's visualize it with vertical bar chart\n",
    "\n",
    "plt.barh(sold_p.index,sold_p)\n",
    "plt.title(\"amount of each product sold\")\n",
    "plt.xlabel(\"Quantity Ordered\")\n",
    "plt.ylabel(\"Product\")\n",
    "\n",
    "plt.show()"
   ]
  },
  {
   "cell_type": "code",
   "execution_count": null,
   "id": "10fc4a65-a186-46b7-ae8d-3c27c9c08026",
   "metadata": {},
   "outputs": [],
   "source": []
  }
 ],
 "metadata": {
  "kernelspec": {
   "display_name": "Python 3 (ipykernel)",
   "language": "python",
   "name": "python3"
  },
  "language_info": {
   "codemirror_mode": {
    "name": "ipython",
    "version": 3
   },
   "file_extension": ".py",
   "mimetype": "text/x-python",
   "name": "python",
   "nbconvert_exporter": "python",
   "pygments_lexer": "ipython3",
   "version": "3.10.6"
  }
 },
 "nbformat": 4,
 "nbformat_minor": 5
}
